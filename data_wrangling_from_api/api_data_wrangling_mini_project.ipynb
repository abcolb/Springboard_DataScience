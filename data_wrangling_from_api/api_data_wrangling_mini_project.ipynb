{
 "cells": [
  {
   "cell_type": "markdown",
   "metadata": {},
   "source": [
    "This exercise will require you to pull some data from the Qunadl API. Qaundl is currently the most widely used aggregator of financial market data."
   ]
  },
  {
   "cell_type": "markdown",
   "metadata": {},
   "source": [
    "As a first step, you will need to register a free account on the http://www.quandl.com website."
   ]
  },
  {
   "cell_type": "markdown",
   "metadata": {},
   "source": [
    "After you register, you will be provided with a unique API key, that you should store:"
   ]
  },
  {
   "cell_type": "code",
   "execution_count": 1,
   "metadata": {},
   "outputs": [],
   "source": [
    "# Store the API key as a string - according to PEP8, constants are always named in all upper case\n",
    "API_KEY = ''"
   ]
  },
  {
   "cell_type": "markdown",
   "metadata": {},
   "source": [
    "Qaundl has a large number of data sources, but, unfortunately, most of them require a Premium subscription. Still, there are also a good number of free datasets."
   ]
  },
  {
   "cell_type": "markdown",
   "metadata": {},
   "source": [
    "For this mini project, we will focus on equities data from the Frankfurt Stock Exhange (FSE), which is available for free. We'll try and analyze the stock prices of a company called Carl Zeiss Meditec, which manufactures tools for eye examinations, as well as medical lasers for laser eye surgery: https://www.zeiss.com/meditec/int/home.html. The company is listed under the stock ticker AFX_X."
   ]
  },
  {
   "cell_type": "markdown",
   "metadata": {},
   "source": [
    "You can find the detailed Quandl API instructions here: https://docs.quandl.com/docs/time-series"
   ]
  },
  {
   "cell_type": "markdown",
   "metadata": {},
   "source": [
    "While there is a dedicated Python package for connecting to the Quandl API, we would prefer that you use the *requests* package, which can be easily downloaded using *pip* or *conda*. You can find the documentation for the package here: http://docs.python-requests.org/en/master/ "
   ]
  },
  {
   "cell_type": "markdown",
   "metadata": {},
   "source": [
    "Finally, apart from the *requests* package, you are encouraged to not use any third party Python packages, such as *pandas*, and instead focus on what's available in the Python Standard Library (the *collections* module might come in handy: https://pymotw.com/3/collections/ ).\n",
    "Also, since you won't have access to DataFrames, you are encouraged to us Python's native data structures - preferably dictionaries, though some questions can also be answered using lists.\n",
    "You can read more on these data structures here: https://docs.python.org/3/tutorial/datastructures.html"
   ]
  },
  {
   "cell_type": "markdown",
   "metadata": {},
   "source": [
    "Keep in mind that the JSON responses you will be getting from the API map almost one-to-one to Python's dictionaries. Unfortunately, they can be very nested, so make sure you read up on indexing dictionaries in the documentation provided above."
   ]
  },
  {
   "cell_type": "code",
   "execution_count": 3,
   "metadata": {},
   "outputs": [],
   "source": [
    "# Import the relevant modules\n",
    "\n",
    "import requests\n",
    "import json"
   ]
  },
  {
   "cell_type": "code",
   "execution_count": 64,
   "metadata": {},
   "outputs": [
    {
     "data": {
      "text/plain": [
       "{'dataset_data': {'limit': None,\n",
       "  'transform': None,\n",
       "  'column_index': None,\n",
       "  'column_names': ['Date',\n",
       "   'Open',\n",
       "   'High',\n",
       "   'Low',\n",
       "   'Close',\n",
       "   'Change',\n",
       "   'Traded Volume',\n",
       "   'Turnover',\n",
       "   'Last Price of the Day',\n",
       "   'Daily Traded Units',\n",
       "   'Daily Turnover'],\n",
       "  'start_date': '2017-01-01',\n",
       "  'end_date': '2017-01-03',\n",
       "  'frequency': 'daily',\n",
       "  'data': [['2017-01-03',\n",
       "    35.9,\n",
       "    35.93,\n",
       "    35.34,\n",
       "    35.48,\n",
       "    None,\n",
       "    70618.0,\n",
       "    2515473.0,\n",
       "    None,\n",
       "    None,\n",
       "    None],\n",
       "   ['2017-01-02',\n",
       "    34.99,\n",
       "    35.94,\n",
       "    34.99,\n",
       "    35.8,\n",
       "    None,\n",
       "    44700.0,\n",
       "    1590561.0,\n",
       "    None,\n",
       "    None,\n",
       "    None]],\n",
       "  'collapse': None,\n",
       "  'order': None}}"
      ]
     },
     "execution_count": 64,
     "metadata": {},
     "output_type": "execute_result"
    }
   ],
   "source": [
    "# Call the Quandl API and pull out a small sample of the data (two days instead of one to observe\n",
    "# any variation in rows) to get a glimpse into the JSON structure that will be returned\n",
    "\n",
    "DATABASE_CODE = 'FSE'\n",
    "DATASET_CODE = 'AFX_X'\n",
    "\n",
    "url = 'https://www.quandl.com/api/v3/datasets/{}/{}/data.json'.format(DATABASE_CODE, DATASET_CODE)\n",
    "params = dict({'api_key': API_KEY, 'start_date': '2017-01-01', 'end_date': '2017-01-03'})\n",
    "\n",
    "# make request\n",
    "r = requests.get(url, params)\n",
    "\n",
    "# examine response\n",
    "res = r.json()\n",
    "res"
   ]
  },
  {
   "cell_type": "code",
   "execution_count": 66,
   "metadata": {},
   "outputs": [
    {
     "data": {
      "text/plain": [
       "[{'Date': '2017-01-03',\n",
       "  'Open': 35.9,\n",
       "  'High': 35.93,\n",
       "  'Low': 35.34,\n",
       "  'Close': 35.48,\n",
       "  'Change': None,\n",
       "  'Traded Volume': 70618.0,\n",
       "  'Turnover': 2515473.0,\n",
       "  'Last Price of the Day': None,\n",
       "  'Daily Traded Units': None,\n",
       "  'Daily Turnover': None},\n",
       " {'Date': '2017-01-02',\n",
       "  'Open': 34.99,\n",
       "  'High': 35.94,\n",
       "  'Low': 34.99,\n",
       "  'Close': 35.8,\n",
       "  'Change': None,\n",
       "  'Traded Volume': 44700.0,\n",
       "  'Turnover': 1590561.0,\n",
       "  'Last Price of the Day': None,\n",
       "  'Daily Traded Units': None,\n",
       "  'Daily Turnover': None}]"
      ]
     },
     "execution_count": 66,
     "metadata": {},
     "output_type": "execute_result"
    }
   ],
   "source": [
    "# Parser to convert json response to list of daily stock data in the format of dictionaries\n",
    "\n",
    "def parse_response(resp_json):\n",
    "    # store column names since each row has the same header\n",
    "    column_names = resp_json['dataset_data']['column_names']\n",
    "    rows = resp_json['dataset_data']['data'] # an array of arrays of length `len(column_names)``\n",
    "\n",
    "    column_names.remove('Date')\n",
    "    response_list = [dict(zip(column_names, row)) for row in rows]\n",
    "\n",
    "    return response_list\n",
    "\n",
    "parse_response(res)"
   ]
  },
  {
   "cell_type": "markdown",
   "metadata": {},
   "source": [
    "These are your tasks for this mini project:\n",
    "\n",
    "1. Collect data from the Franfurt Stock Exchange, for the ticker AFX_X, for the whole year 2017 (keep in mind that the date format is YYYY-MM-DD).\n",
    "2. Convert the returned JSON object into a Python dictionary.\n",
    "3. Calculate what the highest and lowest opening prices were for the stock in this period.\n",
    "4. What was the largest change in any one day (based on High and Low price)?\n",
    "5. What was the largest change between any two days (based on Closing Price)?\n",
    "6. What was the average daily trading volume during this year?\n",
    "7. (Optional) What was the median trading volume during this year. (Note: you may need to implement your own function for calculating the median.)"
   ]
  },
  {
   "cell_type": "code",
   "execution_count": 67,
   "metadata": {},
   "outputs": [
    {
     "name": "stdout",
     "output_type": "stream",
     "text": [
      "<class 'dict'>\n"
     ]
    }
   ],
   "source": [
    "# Collect data for the whole year 2017 \n",
    "\n",
    "url = 'https://www.quandl.com/api/v3/datasets/{}/{}/data.json'.format(DATABASE_CODE, DATASET_CODE)\n",
    "params = dict({'api_key': API_KEY, 'start_date': '2017-01-01', 'end_date': '2017-12-31'})\n",
    "\n",
    "r = requests.get(url, params)\n",
    "\n",
    "# convert the returned JSON object into a Python dictionary\n",
    "res = r.json()\n",
    "print(type(res))"
   ]
  },
  {
   "cell_type": "code",
   "execution_count": 68,
   "metadata": {},
   "outputs": [
    {
     "data": {
      "text/plain": [
       "[{'Date': '2017-12-29',\n",
       "  'Open': 51.76,\n",
       "  'High': 51.94,\n",
       "  'Low': 51.45,\n",
       "  'Close': 51.76,\n",
       "  'Change': None,\n",
       "  'Traded Volume': 34640.0,\n",
       "  'Turnover': 1792304.0,\n",
       "  'Last Price of the Day': None,\n",
       "  'Daily Traded Units': None,\n",
       "  'Daily Turnover': None},\n",
       " {'Date': '2017-12-28',\n",
       "  'Open': 51.65,\n",
       "  'High': 51.82,\n",
       "  'Low': 51.43,\n",
       "  'Close': 51.6,\n",
       "  'Change': None,\n",
       "  'Traded Volume': 40660.0,\n",
       "  'Turnover': 2099024.0,\n",
       "  'Last Price of the Day': None,\n",
       "  'Daily Traded Units': None,\n",
       "  'Daily Turnover': None},\n",
       " {'Date': '2017-12-27',\n",
       "  'Open': 51.45,\n",
       "  'High': 51.89,\n",
       "  'Low': 50.76,\n",
       "  'Close': 51.82,\n",
       "  'Change': None,\n",
       "  'Traded Volume': 57452.0,\n",
       "  'Turnover': 2957018.0,\n",
       "  'Last Price of the Day': None,\n",
       "  'Daily Traded Units': None,\n",
       "  'Daily Turnover': None}]"
      ]
     },
     "execution_count": 68,
     "metadata": {},
     "output_type": "execute_result"
    }
   ],
   "source": [
    "# parse json into list of dicts for aggregate analysis\n",
    "\n",
    "response_list = parse_response(res)\n",
    "response_list[0:3]"
   ]
  },
  {
   "cell_type": "code",
   "execution_count": 69,
   "metadata": {},
   "outputs": [
    {
     "name": "stdout",
     "output_type": "stream",
     "text": [
      "Highest opening price 53.11\n",
      "Lowest opening price 34.0\n"
     ]
    }
   ],
   "source": [
    "# Calculate what the highest and lowest opening prices were for the stock in this period.\n",
    "\n",
    "open_max = max(r['Open'] for r in response_list if r['Open'] != None)\n",
    "print('Highest opening price', open_max)\n",
    "\n",
    "open_min = min(r['Open'] for r in response_list if r['Open'] != None)\n",
    "print('Lowest opening price', open_min)"
   ]
  },
  {
   "cell_type": "code",
   "execution_count": 73,
   "metadata": {},
   "outputs": [
    {
     "name": "stdout",
     "output_type": "stream",
     "text": [
      "Largest spread 2.81\n",
      "Smallest spread 0.19\n"
     ]
    }
   ],
   "source": [
    "# the largest change in any one day (based on High and Low price)\n",
    "\n",
    "spread_max = max(r['High'] - r['Low'] for r in response_list if r['High'] != None and r['Low'] != None)\n",
    "print('Largest spread', str(round(spread_max, 2)))\n",
    "\n",
    "spread_min = min(r['High'] - r['Low'] for r in response_list if r['High'] != None and r['Low'] != None)\n",
    "print('Smallest spread', str(round(spread_min, 2)))"
   ]
  },
  {
   "cell_type": "code",
   "execution_count": 74,
   "metadata": {},
   "outputs": [
    {
     "name": "stdout",
     "output_type": "stream",
     "text": [
      "Highest closing diff 2.56\n"
     ]
    }
   ],
   "source": [
    "# the largest change between any two days (based on Closing Price)\n",
    "\n",
    "closing_max = max(r['Close'] - response_list[i - 1]['Close'] for i, r in enumerate(response_list) \n",
    "                  if i > 1 and r['Close'] != None and response_list[i - 1]['Close'] != None)\n",
    "print('Highest closing diff', str(round(closing_max, 2)))"
   ]
  },
  {
   "cell_type": "code",
   "execution_count": 75,
   "metadata": {},
   "outputs": [
    {
     "name": "stdout",
     "output_type": "stream",
     "text": [
      "Average daily trading volume 89124\n"
     ]
    }
   ],
   "source": [
    "# the average daily trading volume during this year\n",
    "\n",
    "volume = [r['Traded Volume'] for r in response_list if r['Traded Volume'] != None]\n",
    "avg = sum(volume)/len(volume)\n",
    "print('Average daily trading volume', str(int(avg)))"
   ]
  },
  {
   "cell_type": "code",
   "execution_count": 76,
   "metadata": {},
   "outputs": [
    {
     "name": "stdout",
     "output_type": "stream",
     "text": [
      "The median trading volume was  76286\n"
     ]
    }
   ],
   "source": [
    "# the median trading volume during this year\n",
    "\n",
    "median = sorted(volume)[len(volume)//2] \n",
    "print('The median trading volume was ', str(int(median)))"
   ]
  },
  {
   "cell_type": "code",
   "execution_count": null,
   "metadata": {},
   "outputs": [],
   "source": []
  }
 ],
 "metadata": {
  "kernelspec": {
   "display_name": "Python 3",
   "language": "python",
   "name": "python3"
  },
  "language_info": {
   "codemirror_mode": {
    "name": "ipython",
    "version": 3
   },
   "file_extension": ".py",
   "mimetype": "text/x-python",
   "name": "python",
   "nbconvert_exporter": "python",
   "pygments_lexer": "ipython3",
   "version": "3.7.4"
  }
 },
 "nbformat": 4,
 "nbformat_minor": 2
}
